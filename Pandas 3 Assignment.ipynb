{
 "cells": [
  {
   "cell_type": "markdown",
   "id": "fff7042a-e51c-45f0-be85-5be51c04ff09",
   "metadata": {},
   "source": [
    "Q1. Write a code to print the data present in the second row of the dataframe, df.\n",
    "import pandas as pd\n",
    "course_name = [‘Data Science’, ‘Machine Learning’, ‘Big Data’, ‘Data Engineer’]\n",
    "duration = [2,3,6,4]\n",
    "df = pd.DataFrame(data = {‘course_name’ : course_name, ‘duration’ : duration})"
   ]
  },
  {
   "cell_type": "code",
   "execution_count": 2,
   "id": "56d06aba-b930-4960-a7d3-7b94add605c3",
   "metadata": {},
   "outputs": [
    {
     "name": "stdout",
     "output_type": "stream",
     "text": [
      "   duration\n",
      "0         2\n",
      "1         3\n",
      "2         6\n",
      "3         4\n"
     ]
    }
   ],
   "source": [
    "import pandas as pd\n",
    "data = {\n",
    "    'duration' : [2,3,6,4]\n",
    "       }\n",
    "df = pd.DataFrame(data)\n",
    "print(df)\n"
   ]
  },
  {
   "cell_type": "markdown",
   "id": "6ff80353-b3f0-46ba-9ff5-be807b0eaf52",
   "metadata": {},
   "source": [
    "Q2. What is the difference between the functions loc and iloc in pandas.DataFrame?"
   ]
  },
  {
   "cell_type": "markdown",
   "id": "ede86164-bfd9-4844-8bbd-ec37c9376823",
   "metadata": {},
   "source": [
    "Ans. Indexing Type:\n",
    "\n",
    "loc uses labels/index names.\n",
    "\n",
    "iloc uses integer positions.\n",
    "\n",
    "Endpoint Inclusion:\n",
    "\n",
    "loc includes the end point in slicing.\n",
    "\n",
    "iloc excludes the end point in slicing.\n",
    "\n",
    "Usability:\n",
    "\n",
    "Use loc when dealing with label-based indexing.\n",
    "\n",
    "Use iloc when dealing with positional indexing."
   ]
  },
  {
   "cell_type": "markdown",
   "id": "63dd5d6d-5848-49b1-9c13-fd90308983fe",
   "metadata": {},
   "source": [
    "Q3. Reindex the given dataframe using a variable, reindex = [3,0,1,2] and store it in the variable, new_df\n",
    "then find the output for both new_df.loc[2] and new_df.iloc[2]."
   ]
  },
  {
   "cell_type": "code",
   "execution_count": 14,
   "id": "16fd1883-4927-46e4-9021-465210c0b0c7",
   "metadata": {},
   "outputs": [
    {
     "name": "stdout",
     "output_type": "stream",
     "text": [
      "       Name\n",
      "0    Sachin\n",
      "1  Sarvagya\n",
      "2     Nitin\n",
      "3     Sunny\n"
     ]
    }
   ],
   "source": [
    "import pandas as pd\n",
    "data = {\n",
    "    'Name' : ['Sachin','Sarvagya','Nitin','Sunny']\n",
    "}\n",
    "df = pd.DataFrame(data)\n",
    "print(df)"
   ]
  },
  {
   "cell_type": "code",
   "execution_count": 15,
   "id": "d9b512d5-7fc8-4f4b-8a26-04f31f5c9ad9",
   "metadata": {},
   "outputs": [
    {
     "name": "stdout",
     "output_type": "stream",
     "text": [
      "       Name\n",
      "3    Sachin\n",
      "0  Sarvagya\n",
      "1     Nitin\n",
      "2     Sunny\n"
     ]
    }
   ],
   "source": [
    "def reindex_dataframe(df):\n",
    "    new_index = list([3,0,1,2])\n",
    "    df.index = new_index\n",
    "    return df\n",
    "\n",
    "reindexed_df = reindex_dataframe(df)\n",
    "print(reindexed_df)\n",
    "    \n",
    "    "
   ]
  },
  {
   "cell_type": "code",
   "execution_count": 18,
   "id": "e785aec5-e8b6-44c3-afce-0577a4efd9ef",
   "metadata": {},
   "outputs": [
    {
     "data": {
      "text/html": [
       "<div>\n",
       "<style scoped>\n",
       "    .dataframe tbody tr th:only-of-type {\n",
       "        vertical-align: middle;\n",
       "    }\n",
       "\n",
       "    .dataframe tbody tr th {\n",
       "        vertical-align: top;\n",
       "    }\n",
       "\n",
       "    .dataframe thead th {\n",
       "        text-align: right;\n",
       "    }\n",
       "</style>\n",
       "<table border=\"1\" class=\"dataframe\">\n",
       "  <thead>\n",
       "    <tr style=\"text-align: right;\">\n",
       "      <th></th>\n",
       "      <th>Name</th>\n",
       "    </tr>\n",
       "  </thead>\n",
       "  <tbody>\n",
       "    <tr>\n",
       "      <th>3</th>\n",
       "      <td>Sachin</td>\n",
       "    </tr>\n",
       "    <tr>\n",
       "      <th>1</th>\n",
       "      <td>Nitin</td>\n",
       "    </tr>\n",
       "  </tbody>\n",
       "</table>\n",
       "</div>"
      ],
      "text/plain": [
       "     Name\n",
       "3  Sachin\n",
       "1   Nitin"
      ]
     },
     "execution_count": 18,
     "metadata": {},
     "output_type": "execute_result"
    }
   ],
   "source": [
    "reindexed_df.iloc[0::2]"
   ]
  },
  {
   "cell_type": "code",
   "execution_count": 21,
   "id": "9e121176-3d36-4278-9513-4f34047b0ca9",
   "metadata": {},
   "outputs": [
    {
     "data": {
      "text/html": [
       "<div>\n",
       "<style scoped>\n",
       "    .dataframe tbody tr th:only-of-type {\n",
       "        vertical-align: middle;\n",
       "    }\n",
       "\n",
       "    .dataframe tbody tr th {\n",
       "        vertical-align: top;\n",
       "    }\n",
       "\n",
       "    .dataframe thead th {\n",
       "        text-align: right;\n",
       "    }\n",
       "</style>\n",
       "<table border=\"1\" class=\"dataframe\">\n",
       "  <thead>\n",
       "    <tr style=\"text-align: right;\">\n",
       "      <th></th>\n",
       "      <th>Name</th>\n",
       "    </tr>\n",
       "  </thead>\n",
       "  <tbody>\n",
       "    <tr>\n",
       "      <th>0</th>\n",
       "      <td>Sarvagya</td>\n",
       "    </tr>\n",
       "    <tr>\n",
       "      <th>2</th>\n",
       "      <td>Sunny</td>\n",
       "    </tr>\n",
       "  </tbody>\n",
       "</table>\n",
       "</div>"
      ],
      "text/plain": [
       "       Name\n",
       "0  Sarvagya\n",
       "2     Sunny"
      ]
     },
     "execution_count": 21,
     "metadata": {},
     "output_type": "execute_result"
    }
   ],
   "source": [
    "reindexed_df.loc[0::2,['Name']]\n"
   ]
  },
  {
   "cell_type": "markdown",
   "id": "2cae63bc-2201-4649-b7cd-c7b4640b84e5",
   "metadata": {},
   "source": [
    "Did you observe any difference in both the outputs? If so then explain it.\n",
    "\n",
    "Ans. Yes i got the differnce in both the code of iloc,loc.In iloc we use the numercial value in it while in loc we use the given name in the table.\n"
   ]
  },
  {
   "cell_type": "markdown",
   "id": "eea02926-089d-4dd2-877e-6841bddac2a3",
   "metadata": {},
   "source": [
    "Q4 . import pandas as pd\n",
    "\n",
    "import numpy as np\n",
    "\n",
    "columns = ['column_1', 'column_2', 'column_3', 'column_4', 'column_5', 'column_6']\n",
    "\n",
    "indices = [1,2,3,4,5,6]\n",
    "\n",
    "#Creating a dataframe:\n",
    "\n",
    "df1 = pd.DataFrame(np.random.rand(6,6), columns = columns, index = indices)\n",
    "\n",
    "Q4. Write a code to find the following statistical measurements for the above dataframe df1:\n",
    "(i) mean of each and every column present in the dataframe.\n",
    "(ii) standard deviation of column, ‘column_2’"
   ]
  },
  {
   "cell_type": "code",
   "execution_count": 31,
   "id": "c4ca2174-e745-4370-80ec-80345f523968",
   "metadata": {},
   "outputs": [
    {
     "name": "stdout",
     "output_type": "stream",
     "text": [
      "   column_1  column_2  column_3  column_4  column_5  column_6\n",
      "0         1         7        13        19        25        31\n",
      "1         2         8        14        20        26        32\n",
      "2         3         9        15        21        27        33\n",
      "3         4        10        16        22        28        34\n",
      "4         5        11        17        23        29        35\n",
      "5         6        12        18        24        30        36\n"
     ]
    }
   ],
   "source": [
    "import pandas as pd\n",
    "import numpy as np\n",
    "\n",
    "data = { 'column_1' : [1,2,3,4,5,6],\n",
    "        'column_2' : [7,8,9,10,11,12],\n",
    "        'column_3' : [13,14,15,16,17,18],\n",
    "        'column_4' : [19,20,21,22,23,24],\n",
    "        'column_5' : [25,26,27,28,29,30],\n",
    "        'column_6' : [31,32,33,34,35,36]\n",
    "       }\n",
    "df = pd.DataFrame(data)\n",
    "print(df )\n"
   ]
  },
  {
   "cell_type": "code",
   "execution_count": 35,
   "id": "af785016-89a4-41b8-ab4d-f56af0061a76",
   "metadata": {},
   "outputs": [
    {
     "data": {
      "text/plain": [
       "column_1     3.5\n",
       "column_2     9.5\n",
       "column_3    15.5\n",
       "column_4    21.5\n",
       "column_5    27.5\n",
       "column_6    33.5\n",
       "dtype: float64"
      ]
     },
     "execution_count": 35,
     "metadata": {},
     "output_type": "execute_result"
    }
   ],
   "source": [
    "np.mean(df)"
   ]
  },
  {
   "cell_type": "code",
   "execution_count": 37,
   "id": "9eb01d5e-7d4e-40ad-993a-a490d26f348d",
   "metadata": {},
   "outputs": [
    {
     "data": {
      "text/plain": [
       "1.707825127659933"
      ]
     },
     "execution_count": 37,
     "metadata": {},
     "output_type": "execute_result"
    }
   ],
   "source": [
    "np.std(df)['column_2']"
   ]
  },
  {
   "cell_type": "markdown",
   "id": "afb74d9a-74a7-4971-8211-b851971648fe",
   "metadata": {},
   "source": [
    "Q5. Replace the data present in the second row of column, ‘column_2’ by a string variable then find the\n",
    "mean of column, column_2.\n",
    "If you are getting errors in executing it then explain why.\n",
    "[Hint: To replace the data use df1.loc[] and equate this to string data of your choice.]"
   ]
  },
  {
   "cell_type": "code",
   "execution_count": 42,
   "id": "bed160a0-ad98-4f62-81bf-86d21346cb62",
   "metadata": {},
   "outputs": [],
   "source": [
    "df.loc[0::,'column_2'] = ['Sachin','Sangeeta','Takshu','Soni','Divu','Divija']"
   ]
  },
  {
   "cell_type": "code",
   "execution_count": 43,
   "id": "78b9773c-ec8f-4086-a0fa-01dd25d1d4bf",
   "metadata": {},
   "outputs": [
    {
     "data": {
      "text/html": [
       "<div>\n",
       "<style scoped>\n",
       "    .dataframe tbody tr th:only-of-type {\n",
       "        vertical-align: middle;\n",
       "    }\n",
       "\n",
       "    .dataframe tbody tr th {\n",
       "        vertical-align: top;\n",
       "    }\n",
       "\n",
       "    .dataframe thead th {\n",
       "        text-align: right;\n",
       "    }\n",
       "</style>\n",
       "<table border=\"1\" class=\"dataframe\">\n",
       "  <thead>\n",
       "    <tr style=\"text-align: right;\">\n",
       "      <th></th>\n",
       "      <th>column_1</th>\n",
       "      <th>column_2</th>\n",
       "      <th>column_3</th>\n",
       "      <th>column_4</th>\n",
       "      <th>column_5</th>\n",
       "      <th>column_6</th>\n",
       "    </tr>\n",
       "  </thead>\n",
       "  <tbody>\n",
       "    <tr>\n",
       "      <th>0</th>\n",
       "      <td>1</td>\n",
       "      <td>Sachin</td>\n",
       "      <td>13</td>\n",
       "      <td>19</td>\n",
       "      <td>25</td>\n",
       "      <td>31</td>\n",
       "    </tr>\n",
       "    <tr>\n",
       "      <th>1</th>\n",
       "      <td>2</td>\n",
       "      <td>Sangeeta</td>\n",
       "      <td>14</td>\n",
       "      <td>20</td>\n",
       "      <td>26</td>\n",
       "      <td>32</td>\n",
       "    </tr>\n",
       "    <tr>\n",
       "      <th>2</th>\n",
       "      <td>3</td>\n",
       "      <td>Takshu</td>\n",
       "      <td>15</td>\n",
       "      <td>21</td>\n",
       "      <td>27</td>\n",
       "      <td>33</td>\n",
       "    </tr>\n",
       "    <tr>\n",
       "      <th>3</th>\n",
       "      <td>4</td>\n",
       "      <td>Soni</td>\n",
       "      <td>16</td>\n",
       "      <td>22</td>\n",
       "      <td>28</td>\n",
       "      <td>34</td>\n",
       "    </tr>\n",
       "    <tr>\n",
       "      <th>4</th>\n",
       "      <td>5</td>\n",
       "      <td>Divu</td>\n",
       "      <td>17</td>\n",
       "      <td>23</td>\n",
       "      <td>29</td>\n",
       "      <td>35</td>\n",
       "    </tr>\n",
       "    <tr>\n",
       "      <th>5</th>\n",
       "      <td>6</td>\n",
       "      <td>Divija</td>\n",
       "      <td>18</td>\n",
       "      <td>24</td>\n",
       "      <td>30</td>\n",
       "      <td>36</td>\n",
       "    </tr>\n",
       "  </tbody>\n",
       "</table>\n",
       "</div>"
      ],
      "text/plain": [
       "   column_1  column_2  column_3  column_4  column_5  column_6\n",
       "0         1    Sachin        13        19        25        31\n",
       "1         2  Sangeeta        14        20        26        32\n",
       "2         3    Takshu        15        21        27        33\n",
       "3         4      Soni        16        22        28        34\n",
       "4         5      Divu        17        23        29        35\n",
       "5         6    Divija        18        24        30        36"
      ]
     },
     "execution_count": 43,
     "metadata": {},
     "output_type": "execute_result"
    }
   ],
   "source": [
    "df"
   ]
  },
  {
   "cell_type": "code",
   "execution_count": null,
   "id": "e880e0ce-e8b8-4463-9fcb-91836b7cd7d3",
   "metadata": {},
   "outputs": [],
   "source": [
    "np.mean(df)['column_2']\n",
    "#Yes, i am getting error in the 'column_2' because mean comes out of only numerical value wee donot get mean of the string value."
   ]
  },
  {
   "cell_type": "markdown",
   "id": "3fcf6c77-ae6d-44f3-8b93-e05b202e8a28",
   "metadata": {},
   "source": [
    "Q6. What do you understand about the windows function in pandas and list the types of windows\n",
    "functions?"
   ]
  },
  {
   "cell_type": "markdown",
   "id": "11337d18-77cd-4561-be44-81970c5aca45",
   "metadata": {},
   "source": [
    "In pandas, a window function performs a calculation across a sliding window of values, which is particularly useful for time series data and other sequential data analysis. These functions allow you to apply operations like aggregations, transformations, and other computations over a subset of data defined by the window.\n",
    "\n",
    "Types of Window Functions in pandas:\n",
    "\n",
    "1, Rolling Window Functions:\n",
    "\n",
    "These functions calculate a value over a sliding window of a fixed size.\n",
    "Examples: rolling(), which can be used with aggregation functions like mean(), sum(), std(), min(), max(), etc.\n",
    "Syntax: df.rolling(window=window_size)\n",
    "\n",
    "\n",
    "2,Expanding Window Functions:\n",
    "\n",
    "These functions calculate values over an expanding window, starting from the beginning of the data and expanding with each new data point.\n",
    "Examples: expanding(), which can also be combined with aggregation functions.\n",
    "Syntax: df.expanding(min_periods=1)\n",
    "\n",
    "3,Exponentially Weighted Window Functions:\n",
    "\n",
    "These functions apply exponential decay to past observations, giving more weight to recent observations.\n",
    "Examples: ewm(), which can be used with methods like mean(), std(), var(), etc.\n",
    "Syntax: df.ewm(span=span_value)\n",
    "\n",
    "4,Custom Window Functions:\n",
    "\n",
    "You can define custom window functions using the apply() method on rolling or expanding windows.\n",
    "Syntax: df.rolling(window=window_size).apply(custom_function)\n",
    "\n",
    "5,GroupBy Window Functions:\n",
    "\n",
    "These functions are used in conjunction with the groupby() method to perform window calculations within groups.\n",
    "Syntax: df.groupby('group_column').rolling(window=window_size)"
   ]
  },
  {
   "cell_type": "markdown",
   "id": "4ee27aeb-a84d-45ea-a785-52fa7af2c0a0",
   "metadata": {},
   "source": [
    "Q7. Write a code to print only the current month and year at the time of answering this question.\n",
    "\n",
    "[Hint: Use pandas.datetime function]"
   ]
  },
  {
   "cell_type": "code",
   "execution_count": 51,
   "id": "c5a8d204-e72d-4da3-b4b4-42a84cab72a7",
   "metadata": {},
   "outputs": [
    {
     "name": "stdout",
     "output_type": "stream",
     "text": [
      "July 2024\n"
     ]
    }
   ],
   "source": [
    "import datetime\n",
    "\n",
    "# Get the current date\n",
    "current_date = datetime.datetime.now()\n",
    "\n",
    "# Extract and print the current month and year\n",
    "current_month_year = current_date.strftime(\"%B %Y\")\n",
    "print(current_month_year)\n",
    "\n"
   ]
  },
  {
   "cell_type": "markdown",
   "id": "11684994-3cd1-4d17-831a-4bc496a37c3b",
   "metadata": {},
   "source": [
    "Q8. Write a Python program that takes in two dates as input (in the format YYYY-MM-DD) and\n",
    "calculates the difference between them in days, hours, and minutes using Pandas time delta. The\n",
    "program should prompt the user to enter the dates and display the result."
   ]
  },
  {
   "cell_type": "code",
   "execution_count": null,
   "id": "c9619aae-9dce-4948-a6d4-27c203c35312",
   "metadata": {},
   "outputs": [],
   "source": []
  }
 ],
 "metadata": {
  "kernelspec": {
   "display_name": "Python 3 (ipykernel)",
   "language": "python",
   "name": "python3"
  },
  "language_info": {
   "codemirror_mode": {
    "name": "ipython",
    "version": 3
   },
   "file_extension": ".py",
   "mimetype": "text/x-python",
   "name": "python",
   "nbconvert_exporter": "python",
   "pygments_lexer": "ipython3",
   "version": "3.10.8"
  }
 },
 "nbformat": 4,
 "nbformat_minor": 5
}
