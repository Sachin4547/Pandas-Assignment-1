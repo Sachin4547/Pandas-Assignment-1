{
 "cells": [
  {
   "cell_type": "markdown",
   "id": "dc022604-323d-4c6c-84fc-8b4abd5e42ad",
   "metadata": {},
   "source": [
    "Q1. List any five functions of the pandas library with execution."
   ]
  },
  {
   "cell_type": "code",
   "execution_count": null,
   "id": "f2ca1409-0e5a-4262-8067-9a84583333cd",
   "metadata": {},
   "outputs": [],
   "source": [
    " #Here are five commonly used functions of the pandas library along with examples of their execution:\n",
    "#1. Creating a DATAFRAME\n",
    "\n",
    "import pandas as pd\n",
    "\n",
    "# Creating a DataFrame\n",
    "data = {\n",
    "    'Name': ['Alice', 'Bob', 'Charlie', 'David', 'Eve'],\n",
    "    'Age': [24, 27, 22, 32, 29],\n",
    "    'City': ['New York', 'Los Angeles', 'Chicago', 'Houston', 'Phoenix']\n",
    "}\n",
    "df = pd.DataFrame(data)\n",
    "print(df)\n",
    "\n",
    "\n",
    "#2. Reading a CSV file\n",
    "\n",
    "# Reading a CSV file\n",
    "df = pd.read_csv('data.csv')\n",
    "print(df.head())  # Displaying the first few rows of the DataFrame\n",
    "\n",
    "\n",
    "#3 Descriptive Statistics\n",
    "# Descriptive statistics\n",
    "print(df.describe())\n",
    "\n",
    "\n",
    "#4 Filtering DATA\n",
    "# Filtering data\n",
    "filtered_df = df[df['Age'] > 25]\n",
    "print(filtered_df)\n",
    "\n",
    "\n",
    "#5 Gropuing DATA\n",
    "# Grouping data\n",
    "grouped_df = df.groupby('City').mean()\n",
    "print(grouped_df)\n"
   ]
  },
  {
   "cell_type": "markdown",
   "id": "b9a7263e-e512-4aa2-91b6-21b75d8b649b",
   "metadata": {},
   "source": [
    "Q2. Given a Pandas DataFrame df with columns 'A', 'B', and 'C', write a Python function to re-index the\n",
    "DataFrame with a new index that starts from 1 and increments by 2 for each row."
   ]
  },
  {
   "cell_type": "code",
   "execution_count": 13,
   "id": "d9131ada-8eda-44c4-a866-388a2718e686",
   "metadata": {},
   "outputs": [
    {
     "name": "stdout",
     "output_type": "stream",
     "text": [
      "    A   B   C   D\n",
      "0  10  15  16  17\n",
      "1  20  25  26  18\n",
      "2  30  35  34  19\n",
      "3  40  45  46  21\n",
      "4  50  55  56  22\n"
     ]
    }
   ],
   "source": [
    "import pandas as pd\n",
    "data = {\n",
    "    'A' : [10,20,30,40,50],\n",
    "    'B' : [15,25,35,45,55],\n",
    "    'C' : [16,26,34,46,56],\n",
    "    'D' : [17,18,19,21,22]\n",
    "}\n",
    "\n",
    "df = pd.DataFrame(data)\n",
    "print(df)\n",
    "\n"
   ]
  },
  {
   "cell_type": "code",
   "execution_count": 18,
   "id": "ce2789a7-0214-4997-8efc-474f8a092b5b",
   "metadata": {},
   "outputs": [
    {
     "name": "stdout",
     "output_type": "stream",
     "text": [
      "    A   B   C   D\n",
      "1  10  15  16  17\n",
      "3  20  25  26  18\n",
      "5  30  35  34  19\n",
      "7  40  45  46  21\n",
      "9  50  55  56  22\n"
     ]
    }
   ],
   "source": [
    "import pandas as pd\n",
    "#Reindexing the dataFrame\n",
    "def reindex_dataframe(df):\n",
    "    new_index = list(range(1, 2*len(df),2))\n",
    "    df.index = new_index\n",
    "    return df\n",
    "\n",
    "reindexed_df = reindex_dataframe(df)\n",
    "print(reindexed_df)\n",
    "    \n",
    "   "
   ]
  },
  {
   "cell_type": "markdown",
   "id": "bf2afd25-737c-4b27-b880-58b6e67719e8",
   "metadata": {},
   "source": [
    "Q3. You have a Pandas DataFrame df with a column named 'Values'. Write a Python function that\n",
    "iterates over the DataFrame and calculates the sum of the first three values in the 'Values' column. The\n",
    "function should print the sum to the console.\n",
    "For example, if the 'Values' column of df contains the values [10, 20, 30, 40, 50], your function should\n",
    "calculate and print the sum of the first three values, which is 60."
   ]
  },
  {
   "cell_type": "code",
   "execution_count": 37,
   "id": "65ba821e-10cc-4172-a9d1-b37816c0c438",
   "metadata": {},
   "outputs": [
    {
     "name": "stdout",
     "output_type": "stream",
     "text": [
      "sum of first three value: 60\n"
     ]
    }
   ],
   "source": [
    "import pandas as pd\n",
    "\n",
    "def sum_first_three_values(df):\n",
    "    if 'Values' in df.columns and len(df['Values']) >=3:\n",
    "        sum_values = df['Values'].iloc[:3].sum()\n",
    "        print(\"sum of first three value:\", sum_values)\n",
    "    else:\n",
    "        print(\"The DataFrame does not have enough values in the 'Values' column\")\n",
    "      \n",
    "data = {\n",
    "    'Values' : [10,20,30,40,50,60]\n",
    "\n",
    "}\n",
    "df = pd.DataFrame(data)\n",
    "sum_first_three_values(df)\n"
   ]
  },
  {
   "cell_type": "markdown",
   "id": "43cda65e-3313-448e-93b6-cfa7d4676655",
   "metadata": {},
   "source": [
    "Q4. Given a Pandas DataFrame df with a column 'Text', write a Python function to create a new column\n",
    "'Word_Count' that contains the number of words in each row of the 'Text' column."
   ]
  },
  {
   "cell_type": "code",
   "execution_count": 19,
   "id": "a82ac4c0-621c-43fe-a0c3-65ef7e27b16c",
   "metadata": {},
   "outputs": [],
   "source": [
    "data = [[\"My name is Sachin\",7404811216,850],[\"My name is Dr.Sangeeta Yadav\",9350957036,850]]"
   ]
  },
  {
   "cell_type": "code",
   "execution_count": 20,
   "id": "aa316ebb-a226-489d-841e-7c6d75f341d4",
   "metadata": {},
   "outputs": [
    {
     "name": "stdout",
     "output_type": "stream",
     "text": [
      "                           Text   Mobile no  House no\n",
      "0             My name is Sachin  7404811216       850\n",
      "1  My name is Dr.Sangeeta Yadav  9350957036       850\n"
     ]
    }
   ],
   "source": [
    "import pandas as pd\n",
    "df = pd.DataFrame(data,columns=[\"Text\",\"Mobile no\" , \"House no\"])\n",
    "print(df)\n"
   ]
  },
  {
   "cell_type": "code",
   "execution_count": 25,
   "id": "c986b9d1-c4a2-4f27-bf84-7beeaef8b4d6",
   "metadata": {},
   "outputs": [
    {
     "name": "stdout",
     "output_type": "stream",
     "text": [
      "                           Text   Mobile no  House no  Word_Count\n",
      "0             My name is Sachin  7404811216       850           0\n",
      "1  My name is Dr.Sangeeta Yadav  9350957036       850           0\n"
     ]
    }
   ],
   "source": [
    "df[\"Word_Count\"] = 0\n",
    "print(df)"
   ]
  },
  {
   "cell_type": "code",
   "execution_count": 27,
   "id": "35d29de2-3111-4f23-8753-9012a02b9749",
   "metadata": {},
   "outputs": [
    {
     "name": "stdout",
     "output_type": "stream",
     "text": [
      "                           Text   Mobile no  House no  Word_Count\n",
      "0             My name is Sachin  7404811216       850           4\n",
      "1  My name is Dr.Sangeeta Yadav  9350957036       850           5\n"
     ]
    }
   ],
   "source": [
    "df['Word_Count'] = df['Text'].apply(lambda x: len(str(x).split()))\n",
    "print(df)"
   ]
  },
  {
   "cell_type": "markdown",
   "id": "6ae457ed-ac75-42b1-bb06-c5adef9d99b1",
   "metadata": {},
   "source": [
    "Q5. How are DataFrame.size() and DataFrame.shape() different?"
   ]
  },
  {
   "cell_type": "code",
   "execution_count": null,
   "id": "2cca2254-1d3c-4a84-80c2-201bd08f9fb8",
   "metadata": {},
   "outputs": [],
   "source": [
    "#Ans. #DataFrame.size:\n",
    "\n",
    "#Description: This attribute returns the number of elements in the DataFrame.\n",
    "#Calculation: It is calculated as the total number of rows multiplied by the total number of columns.\n",
    "#Usage: df.size\n",
    "import pandas as pd\n",
    "\n",
    "data = {\n",
    "    'A': [1, 2, 3],\n",
    "    'B': [4, 5, 6],\n",
    "    'C': [7, 8, 9]\n",
    "}\n",
    "df = pd.DataFrame(data)\n",
    "print(df.size)  # Output: 9 (3 rows * 3 columns)\n",
    "\n",
    "\n",
    "#DataFrame.shape:\n",
    "\n",
    "#Description: This attribute returns a tuple representing the dimensionality of the DataFrame.\n",
    "#Format: The tuple is in the form (number_of_rows, number_of_columns).\n",
    "#Usage: df.shape\n",
    "\n",
    "import pandas as pd\n",
    "\n",
    "data = {\n",
    "    'A': [1, 2, 3],\n",
    "    'B': [4, 5, 6],\n",
    "    'C': [7, 8, 9]\n",
    "}\n",
    "df = pd.DataFrame(data)\n",
    "print(df.shape)  # Output: (3, 3) (3 rows, 3 columns)\n"
   ]
  },
  {
   "cell_type": "markdown",
   "id": "60c4fc0d-2eb8-4e37-964f-99c395002577",
   "metadata": {},
   "source": [
    "Q6. Which function of pandas do we use to read an excel file?\n",
    "\n",
    "\n",
    "Ans. pd.read_excel(\"\") is used to read excel file"
   ]
  },
  {
   "cell_type": "markdown",
   "id": "fae9068c-4480-4768-b561-0ba53ed5ced8",
   "metadata": {},
   "source": [
    "Q7. You have a Pandas DataFrame df that contains a column named 'Email' that contains email\n",
    "addresses in the format 'username@domain.com'. Write a Python function that creates a new column\n",
    "'Username' in df that contains only the username part of each email address."
   ]
  },
  {
   "cell_type": "code",
   "execution_count": 45,
   "id": "830ba3a1-60ce-46e1-b7a2-ede878f84418",
   "metadata": {},
   "outputs": [
    {
     "name": "stdout",
     "output_type": "stream",
     "text": [
      "                     Email\n",
      "0      srao87129@gmail.com\n",
      "1  vison.snyadav@gamil.com\n"
     ]
    }
   ],
   "source": [
    "import pandas as pd\n",
    "        \n",
    "data = [[\"srao87129@gmail.com\"],[\"vison.snyadav@gamil.com\"]]\n",
    "df = pd.DataFrame(data,columns = ['Email'])\n",
    "print(df)\n",
    "\n"
   ]
  },
  {
   "cell_type": "code",
   "execution_count": 48,
   "id": "13553c6f-a72e-448b-8a6f-daaad57aeef2",
   "metadata": {},
   "outputs": [
    {
     "name": "stdout",
     "output_type": "stream",
     "text": [
      "                     Email  Usename\n",
      "0      srao87129@gmail.com        0\n",
      "1  vison.snyadav@gamil.com        0\n",
      "\n",
      "DataFrame with 'Username' column:\n",
      "                     Email  Usename\n",
      "0      srao87129@gmail.com        0\n",
      "1  vison.snyadav@gamil.com        0\n"
     ]
    }
   ],
   "source": [
    "df['Usename'] = 0\n",
    "print(df)\n",
    "def extract_username(df):\n",
    "    if 'Email' in df.columns:\n",
    "        df['Username'] : df['Email'].apply(lambda x : x.split('@')[0])\n",
    "    return df\n",
    "    \n",
    "df = extract_username(df)\n",
    "print(\"\\nDataFrame with 'Username' column:\")\n",
    "print(df)\n",
    "\n"
   ]
  },
  {
   "cell_type": "code",
   "execution_count": 49,
   "id": "49837456-697d-4098-a062-e0ed35f4a1ed",
   "metadata": {},
   "outputs": [
    {
     "name": "stdout",
     "output_type": "stream",
     "text": [
      "Original DataFrame:\n",
      "                 Email\n",
      "0    alice@example.com\n",
      "1      bob@example.com\n",
      "2  charlie@example.com\n",
      "3    david@example.com\n",
      "4      eve@example.com\n",
      "\n",
      "DataFrame with 'Username' column:\n",
      "                 Email Username\n",
      "0    alice@example.com    alice\n",
      "1      bob@example.com      bob\n",
      "2  charlie@example.com  charlie\n",
      "3    david@example.com    david\n",
      "4      eve@example.com      eve\n"
     ]
    }
   ],
   "source": [
    "import pandas as pd\n",
    "\n",
    "def extract_usernames(df):\n",
    "    # Check if 'Email' column exists\n",
    "    if 'Email' in df.columns:\n",
    "        # Create 'Username' column by splitting the 'Email' column at '@' and taking the first part\n",
    "        df['Username'] = df['Email'].apply(lambda x: x.split('@')[0])\n",
    "    else:\n",
    "        print(\"The DataFrame does not have an 'Email' column\")\n",
    "    return df\n",
    "\n",
    "# Example usage\n",
    "data = {\n",
    "    'Email': [\n",
    "        'alice@example.com',\n",
    "        'bob@example.com',\n",
    "        'charlie@example.com',\n",
    "        'david@example.com',\n",
    "        'eve@example.com'\n",
    "    ]\n",
    "}\n",
    "df = pd.DataFrame(data)\n",
    "print(\"Original DataFrame:\")\n",
    "print(df)\n",
    "\n",
    "# Extract usernames and add 'Username' column\n",
    "df = extract_usernames(df)\n",
    "print(\"\\nDataFrame with 'Username' column:\")\n",
    "print(df)\n"
   ]
  },
  {
   "cell_type": "markdown",
   "id": "02b3ccad-f8da-4f90-92f9-38892aa2dc4a",
   "metadata": {},
   "source": [
    "Q9. Given a Pandas DataFrame df with a column 'Values', write a Python function to calculate the mean,\n",
    "median, and standard deviation of the values in the 'Values' column."
   ]
  },
  {
   "cell_type": "code",
   "execution_count": 3,
   "id": "8d7b0ac7-f8ac-4734-8d2f-4ac40eaf94c8",
   "metadata": {},
   "outputs": [
    {
     "name": "stdout",
     "output_type": "stream",
     "text": [
      "    A   B  C\n",
      "0   1   2  3\n",
      "1   7   8  9\n",
      "2  78  25  6\n"
     ]
    }
   ],
   "source": [
    "import pandas as pd\n",
    "import numpy as np\n",
    "data = [[1,2,3],[7,8,9],[78,25,6]]\n",
    "df = pd.DataFrame(data,columns=['A','B','C'])\n",
    "print(df)\n",
    "\n",
    "                  \n"
   ]
  },
  {
   "cell_type": "code",
   "execution_count": 5,
   "id": "bf93ad29-e53a-4779-ade8-7b3b98b6e893",
   "metadata": {},
   "outputs": [
    {
     "data": {
      "text/html": [
       "<div>\n",
       "<style scoped>\n",
       "    .dataframe tbody tr th:only-of-type {\n",
       "        vertical-align: middle;\n",
       "    }\n",
       "\n",
       "    .dataframe tbody tr th {\n",
       "        vertical-align: top;\n",
       "    }\n",
       "\n",
       "    .dataframe thead th {\n",
       "        text-align: right;\n",
       "    }\n",
       "</style>\n",
       "<table border=\"1\" class=\"dataframe\">\n",
       "  <thead>\n",
       "    <tr style=\"text-align: right;\">\n",
       "      <th></th>\n",
       "      <th>A</th>\n",
       "      <th>B</th>\n",
       "      <th>C</th>\n",
       "    </tr>\n",
       "  </thead>\n",
       "  <tbody>\n",
       "    <tr>\n",
       "      <th>count</th>\n",
       "      <td>3.000000</td>\n",
       "      <td>3.000000</td>\n",
       "      <td>3.0</td>\n",
       "    </tr>\n",
       "    <tr>\n",
       "      <th>mean</th>\n",
       "      <td>28.666667</td>\n",
       "      <td>11.666667</td>\n",
       "      <td>6.0</td>\n",
       "    </tr>\n",
       "    <tr>\n",
       "      <th>std</th>\n",
       "      <td>42.829118</td>\n",
       "      <td>11.930353</td>\n",
       "      <td>3.0</td>\n",
       "    </tr>\n",
       "    <tr>\n",
       "      <th>min</th>\n",
       "      <td>1.000000</td>\n",
       "      <td>2.000000</td>\n",
       "      <td>3.0</td>\n",
       "    </tr>\n",
       "    <tr>\n",
       "      <th>25%</th>\n",
       "      <td>4.000000</td>\n",
       "      <td>5.000000</td>\n",
       "      <td>4.5</td>\n",
       "    </tr>\n",
       "    <tr>\n",
       "      <th>50%</th>\n",
       "      <td>7.000000</td>\n",
       "      <td>8.000000</td>\n",
       "      <td>6.0</td>\n",
       "    </tr>\n",
       "    <tr>\n",
       "      <th>75%</th>\n",
       "      <td>42.500000</td>\n",
       "      <td>16.500000</td>\n",
       "      <td>7.5</td>\n",
       "    </tr>\n",
       "    <tr>\n",
       "      <th>max</th>\n",
       "      <td>78.000000</td>\n",
       "      <td>25.000000</td>\n",
       "      <td>9.0</td>\n",
       "    </tr>\n",
       "  </tbody>\n",
       "</table>\n",
       "</div>"
      ],
      "text/plain": [
       "               A          B    C\n",
       "count   3.000000   3.000000  3.0\n",
       "mean   28.666667  11.666667  6.0\n",
       "std    42.829118  11.930353  3.0\n",
       "min     1.000000   2.000000  3.0\n",
       "25%     4.000000   5.000000  4.5\n",
       "50%     7.000000   8.000000  6.0\n",
       "75%    42.500000  16.500000  7.5\n",
       "max    78.000000  25.000000  9.0"
      ]
     },
     "execution_count": 5,
     "metadata": {},
     "output_type": "execute_result"
    }
   ],
   "source": [
    "df.describe()"
   ]
  },
  {
   "cell_type": "markdown",
   "id": "b3127e00-50a8-4965-b783-2e6a0411b19a",
   "metadata": {},
   "source": [
    "Q11. You have a Pandas DataFrame df with a column 'Date'. Write a Python function that creates a new\n",
    "column 'Weekday' in the DataFrame. The 'Weekday' column should contain the weekday name (e.g.\n",
    "Monday, Tuesday) corresponding to each date in the 'Date' column."
   ]
  },
  {
   "cell_type": "code",
   "execution_count": 10,
   "id": "31161688-6fcf-4712-9f46-6dfae7a1d5e2",
   "metadata": {},
   "outputs": [
    {
     "name": "stdout",
     "output_type": "stream",
     "text": [
      "       Date\n",
      "0  2023-1-1\n",
      "1  2023-1-2\n",
      "2  2023-1-3\n",
      "3  2023-1-4\n",
      "4  2023-1-5\n"
     ]
    }
   ],
   "source": [
    "import pandas as pd\n",
    "data = {\n",
    "    'Date' :   ['2023-1-1','2023-1-2','2023-1-3','2023-1-4','2023-1-5'] \n",
    "}\n",
    "df = pd.DataFrame(data)\n",
    "print(df)\n",
    "    "
   ]
  },
  {
   "cell_type": "code",
   "execution_count": 13,
   "id": "361d3945-536b-44d1-9f01-5dc77580401e",
   "metadata": {},
   "outputs": [],
   "source": [
    "df['Weekday'] = ['Sunday','Monday','Tuesday','Wednesday','Thursday']"
   ]
  },
  {
   "cell_type": "code",
   "execution_count": 14,
   "id": "f7865703-d80b-4a94-b02e-00e643219c55",
   "metadata": {},
   "outputs": [
    {
     "name": "stdout",
     "output_type": "stream",
     "text": [
      "       Date    Weekday\n",
      "0  2023-1-1     Sunday\n",
      "1  2023-1-2     Monday\n",
      "2  2023-1-3    Tuesday\n",
      "3  2023-1-4  Wednesday\n",
      "4  2023-1-5   Thursday\n"
     ]
    }
   ],
   "source": [
    "print(df)"
   ]
  },
  {
   "cell_type": "markdown",
   "id": "8c0db8f1-9326-4f22-aea6-729d2146ac1f",
   "metadata": {},
   "source": [
    "Q13. To use the basic functions of pandas, what is the first and foremost necessary library that needs to\n",
    "be imported?"
   ]
  },
  {
   "cell_type": "code",
   "execution_count": 16,
   "id": "2aa62225-3678-40e2-9917-67976815f295",
   "metadata": {},
   "outputs": [],
   "source": [
    "#Ans  #The first and foremost library that needs to be imported in pandas is import pandas as pd"
   ]
  },
  {
   "cell_type": "code",
   "execution_count": null,
   "id": "681c305a-1907-4074-b5de-4c7de597a399",
   "metadata": {},
   "outputs": [],
   "source": []
  }
 ],
 "metadata": {
  "kernelspec": {
   "display_name": "Python 3 (ipykernel)",
   "language": "python",
   "name": "python3"
  },
  "language_info": {
   "codemirror_mode": {
    "name": "ipython",
    "version": 3
   },
   "file_extension": ".py",
   "mimetype": "text/x-python",
   "name": "python",
   "nbconvert_exporter": "python",
   "pygments_lexer": "ipython3",
   "version": "3.10.8"
  }
 },
 "nbformat": 4,
 "nbformat_minor": 5
}
