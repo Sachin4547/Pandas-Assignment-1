{
 "cells": [
  {
   "cell_type": "markdown",
   "id": "83d06e2c-9e9b-47e3-a173-0aec0b764a7b",
   "metadata": {},
   "source": [
    "Assignment PANDAS"
   ]
  },
  {
   "cell_type": "markdown",
   "id": "911dfde7-767e-41d4-b199-20ff27052488",
   "metadata": {},
   "source": [
    "Q1. Create a Pandas Series that contains the following data: 4, 8, 15, 16, 23, and 42. Then, print the series."
   ]
  },
  {
   "cell_type": "code",
   "execution_count": 29,
   "id": "174981a7-1602-406d-af47-34cf550ffb43",
   "metadata": {},
   "outputs": [],
   "source": [
    "import pandas as pd"
   ]
  },
  {
   "cell_type": "code",
   "execution_count": 30,
   "id": "357e8b05-e646-42da-b392-33e05492659c",
   "metadata": {},
   "outputs": [
    {
     "name": "stdout",
     "output_type": "stream",
     "text": [
      "0     4\n",
      "1     8\n",
      "2    15\n",
      "3    16\n",
      "4    23\n",
      "5    42\n",
      "dtype: int64\n"
     ]
    }
   ],
   "source": [
    "data = [4,8,15,16,23,42]\n",
    "series = pd.Series(data)\n",
    "print(series)"
   ]
  },
  {
   "cell_type": "markdown",
   "id": "c7d89b8c-0634-44e3-8431-53f1fc6730ea",
   "metadata": {},
   "source": [
    "Q2. Create a variable of list type containing 10 elements in it, and apply pandas.Series function on the\n",
    "variable print it."
   ]
  },
  {
   "cell_type": "code",
   "execution_count": 31,
   "id": "aeb5501a-01d1-48ab-98bf-0f255cf4c981",
   "metadata": {},
   "outputs": [
    {
     "name": "stdout",
     "output_type": "stream",
     "text": [
      "0                7\n",
      "1                8\n",
      "2                9\n",
      "3                4\n",
      "4                5\n",
      "5                6\n",
      "6           Sachin\n",
      "7              Rao\n",
      "8    Data_Scientst\n",
      "9            Apple\n",
      "dtype: object\n"
     ]
    }
   ],
   "source": [
    "import pandas as pd\n",
    "my_list = [7,8,9,4,5,6,'Sachin','Rao','Data_Scientst','Apple']\n",
    "series=pd.Series(my_list)\n",
    "print(series)"
   ]
  },
  {
   "cell_type": "markdown",
   "id": "2dc7b057-b8b5-49f0-ab83-e8468a24c604",
   "metadata": {},
   "source": [
    "Q3. Create a Pandas DataFrame that contains the following data:"
   ]
  },
  {
   "cell_type": "code",
   "execution_count": 32,
   "id": "440650ca-56c0-46e5-8f2e-643e41e84f5e",
   "metadata": {},
   "outputs": [],
   "source": [
    "import pandas as pd\n",
    "name =['Alice','Bob','Claire']\n",
    "Age =[25,30,27]\n",
    "Gender= ['Female','Male','Female']"
   ]
  },
  {
   "cell_type": "code",
   "execution_count": 33,
   "id": "bf4094d2-0c2c-427c-90c8-e8a82dabe120",
   "metadata": {},
   "outputs": [
    {
     "data": {
      "text/html": [
       "<div>\n",
       "<style scoped>\n",
       "    .dataframe tbody tr th:only-of-type {\n",
       "        vertical-align: middle;\n",
       "    }\n",
       "\n",
       "    .dataframe tbody tr th {\n",
       "        vertical-align: top;\n",
       "    }\n",
       "\n",
       "    .dataframe thead th {\n",
       "        text-align: right;\n",
       "    }\n",
       "</style>\n",
       "<table border=\"1\" class=\"dataframe\">\n",
       "  <thead>\n",
       "    <tr style=\"text-align: right;\">\n",
       "      <th></th>\n",
       "      <th>0</th>\n",
       "      <th>1</th>\n",
       "      <th>2</th>\n",
       "    </tr>\n",
       "  </thead>\n",
       "  <tbody>\n",
       "    <tr>\n",
       "      <th>0</th>\n",
       "      <td>Alice</td>\n",
       "      <td>Bob</td>\n",
       "      <td>Claire</td>\n",
       "    </tr>\n",
       "    <tr>\n",
       "      <th>1</th>\n",
       "      <td>25</td>\n",
       "      <td>30</td>\n",
       "      <td>27</td>\n",
       "    </tr>\n",
       "    <tr>\n",
       "      <th>2</th>\n",
       "      <td>Female</td>\n",
       "      <td>Male</td>\n",
       "      <td>Female</td>\n",
       "    </tr>\n",
       "  </tbody>\n",
       "</table>\n",
       "</div>"
      ],
      "text/plain": [
       "        0     1       2\n",
       "0   Alice   Bob  Claire\n",
       "1      25    30      27\n",
       "2  Female  Male  Female"
      ]
     },
     "execution_count": 33,
     "metadata": {},
     "output_type": "execute_result"
    }
   ],
   "source": [
    "pd.DataFrame([name,Age,Gender])"
   ]
  },
  {
   "cell_type": "markdown",
   "id": "403e17fb-61a2-4af0-afd8-0d63e0cbca1a",
   "metadata": {},
   "source": [
    "Q4. What is ‘DataFrame’ in pandas and how is it different from pandas.series? Explain with an example."
   ]
  },
  {
   "cell_type": "markdown",
   "id": "545f96e3-d4cc-46ec-8fda-52f776f74b47",
   "metadata": {},
   "source": [
    "In Pandas, both Series and DataFrame are fundamental data structures, but they serve different purposes and have different characteristics:\n",
    "\n",
    "Series:\n",
    "Definition: A Series is a one-dimensional labeled array capable of holding data of any type (integer, float, string, etc.). It is similar to a one-dimensional array or list in Python but with labeled indices.\n",
    "Properties:\n",
    "It has a single column of data.\n",
    "Each element in the Series has a label called the index.\n",
    "You can think of it as a single column of data with labels for each row.\n",
    "\n",
    "DataFrame:\n",
    "Definition: A DataFrame is a two-dimensional labeled data structure with columns of potentially different types. It can be thought of as a table or a spreadsheet-like data structure where each column represents a different variable or feature and each row represents a different observation.\n",
    "Properties:\n",
    "It has multiple columns of data.\n",
    "It has both a row index and a column index, providing labels for both axes.\n",
    "It can be created from various data structures like lists, dictionaries, NumPy arrays, or even other DataFrames."
   ]
  },
  {
   "cell_type": "code",
   "execution_count": 35,
   "id": "55244f66-cd9f-457a-a122-6e02c515aec3",
   "metadata": {},
   "outputs": [
    {
     "name": "stdout",
     "output_type": "stream",
     "text": [
      "0     Divya\n",
      "1    Sachin\n",
      "2         1\n",
      "3         2\n",
      "4         3\n",
      "5         4\n",
      "dtype: object\n"
     ]
    }
   ],
   "source": [
    "##Example of Series are as follow\n",
    "list= ['Divya','Sachin',1,2,3,4]\n",
    "Series = pd.Series(list)\n",
    "print(Series)"
   ]
  },
  {
   "cell_type": "code",
   "execution_count": 36,
   "id": "1d92b9cc-a5eb-4198-9eb1-20d7e0ec6e65",
   "metadata": {},
   "outputs": [
    {
     "name": "stdout",
     "output_type": "stream",
     "text": [
      "      Name  Age     City\n",
      "0    Alice   25  NewYork\n",
      "1      Bob   30   Rewari\n",
      "2  Charlie   35    Delhi\n",
      "3    David   40   Mumbai\n"
     ]
    }
   ],
   "source": [
    "##Example of DataFrame are as follow\n",
    "data = {\n",
    "    'Name' : ['Alice','Bob','Charlie','David'],\n",
    "    'Age' : [25,30,35,40],\n",
    "    'City' : ['NewYork','Rewari','Delhi','Mumbai']\n",
    "}\n",
    "df = pd.DataFrame(data)\n",
    "print(df)"
   ]
  },
  {
   "cell_type": "markdown",
   "id": "741372fd-ce92-474d-bc23-fc3093be8339",
   "metadata": {},
   "source": [
    "Q5. What are some common functions you can use to manipulate data in a Pandas DataFrame? Can\n",
    "you give an example of when you might use one of these functions?"
   ]
  },
  {
   "cell_type": "markdown",
   "id": "90913488-74d8-4332-ad9f-e6069128e7e2",
   "metadata": {},
   "source": [
    "Answer : Pandas provides a wide range of functions and methods to manipulate data within a DataFrame. Here are some common functions and methods you can use:\n",
    "\n",
    "Selection and Filtering:\n",
    "\n",
    "loc[] and iloc[]: Used for selecting rows and columns by label (loc[]) or by integer index (iloc[]).\n",
    "Example: df.loc[df['Age'] > 30, ['Name', 'Age']] selects rows where the 'Age' column is greater than 30, and retrieves only the 'Name' and 'Age' columns.\n",
    "Sorting:\n",
    "\n",
    "sort_values(): Sorts the DataFrame by specified columns.\n",
    "Example: df.sort_values(by='Age', ascending=False) sorts the DataFrame by the 'Age' column in descending order.\n",
    "Grouping and Aggregation:\n",
    "\n",
    "groupby(): Groups the DataFrame using a mapper or by a Series of columns.\n",
    "Example: df.groupby('City')['Age'].mean() calculates the average age for each unique value in the 'City' column.\n",
    "Applying Functions:\n",
    "\n",
    "apply(): Applies a function along an axis of the DataFrame.\n",
    "Example: df['Age'].apply(lambda x: x * 2) applies a lambda function to double the values in the 'Age' column.\n",
    "Handling Missing Data:\n",
    "\n",
    "dropna(): Drops rows or columns with missing values.\n",
    "fillna(): Fills missing values with specified methods or values.\n",
    "Example: df.dropna() drops rows with any missing values.\n",
    "Merging and Joining:\n",
    "\n",
    "merge(): Merges DataFrame objects by performing a database-style join operation.\n",
    "Example: pd.merge(df1, df2, on='key') merges two DataFrames df1 and df2 on the column 'key'.\n",
    "Reshaping:\n",
    "\n",
    "pivot_table(): Creates a pivot table from a DataFrame.\n",
    "Example: pd.pivot_table(df, values='D', index=['A', 'B'], columns=['C']) creates a pivot table with columns as 'C', index as ['A', 'B'], and values as 'D'.\n",
    "Appending and Concatenating:\n",
    "\n",
    "concat(): Concatenates pandas objects along a particular axis with optional set logic along the other axes.\n",
    "Example: pd.concat([df1, df2]) concatenates df1 and df2 along the rows (axis=0)."
   ]
  },
  {
   "cell_type": "markdown",
   "id": "807a44bb-c01f-4edf-9c22-d756c3846bb7",
   "metadata": {},
   "source": [
    "Q6. Which of the following is mutable in nature Series, DataFrame, Panel?"
   ]
  },
  {
   "cell_type": "markdown",
   "id": "e2edf7ff-f386-4111-b9c3-897f25299bf2",
   "metadata": {},
   "source": [
    "Series: A Pandas Series is immutable, meaning once it is created, you cannot modify the elements or the size of the Series. However, you can modify the values of individual elements within the Series.\n",
    "\n",
    "DataFrame: A Pandas DataFrame is mutable. You can modify its size, shape, and elements. You can add or delete columns and rows, update values, and perform a wide range of operations that change the structure or content of the DataFrame.\n",
    "\n",
    "Panel: Panels were a data structure in earlier versions of Pandas (pre v0.20), designed to handle three-dimensional data. However, they have been deprecated in favor of MultiIndexing in DataFrames, which provides a more intuitive and flexible way to handle higher-dimensional data. Panels were mutable when they existed."
   ]
  },
  {
   "cell_type": "markdown",
   "id": "8f8b3760-b25f-44e0-9c2b-b1b3818e74d9",
   "metadata": {},
   "source": [
    "Q7. Create a DataFrame using multiple Series. Explain with an example."
   ]
  },
  {
   "cell_type": "code",
   "execution_count": 42,
   "id": "c7aaf7e7-9cf5-4273-86fe-bc7d3ec211df",
   "metadata": {},
   "outputs": [
    {
     "name": "stdout",
     "output_type": "stream",
     "text": [
      "       Name  Age\n",
      "0    Sachin   20\n",
      "1  Sangeeta   20\n",
      "2     Divya    2\n",
      "3    Takshu    7\n",
      "4    Divija    3\n"
     ]
    }
   ],
   "source": [
    "name = pd.Series(['Sachin','Sangeeta','Divya','Takshu','Divija'])\n",
    "age = pd.Series([20,20,2,7,3])\n",
    "df = pd.DataFrame({'Name' : name , 'Age' : age})\n",
    "print(df)\n"
   ]
  },
  {
   "cell_type": "code",
   "execution_count": null,
   "id": "2773c16e-2533-4d33-a4e3-1ce8594d38e9",
   "metadata": {},
   "outputs": [],
   "source": []
  }
 ],
 "metadata": {
  "kernelspec": {
   "display_name": "Python 3 (ipykernel)",
   "language": "python",
   "name": "python3"
  },
  "language_info": {
   "codemirror_mode": {
    "name": "ipython",
    "version": 3
   },
   "file_extension": ".py",
   "mimetype": "text/x-python",
   "name": "python",
   "nbconvert_exporter": "python",
   "pygments_lexer": "ipython3",
   "version": "3.10.8"
  }
 },
 "nbformat": 4,
 "nbformat_minor": 5
}
